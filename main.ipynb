{
 "cells": [
  {
   "cell_type": "markdown",
   "metadata": {},
   "source": [
    "## CINC Technical Requirements\n",
    "1. CINC HOIDs must start with the association code.\t\t\t\t\t\t\n",
    "2. HOIDs must not contain any special characters. They should be alpha-numeric only. \t\t\t\t\t\t\n",
    "\t\t\t\t\t\t\n",
    "3. HOIDs may not be more than 16 characters in length. \t\t\t\t\t\t\n",
    "4. HOIDs should represent the shortest possible account number that adheres to these requirements. Less than 12 characters is ideal.\t\t\t\t\t\t\n",
    "\t\t\t\t\t\t\n",
    "5. No duplicate HOIDs may exist in a data set.\t\t\t\t\t\t\n",
    "6. HOIDs must represent the property address using the most valid identifying information. This may include the street number, an abbreviation of the street name (typically initials), unit number, and lot number. \t\t\t\t\t\t\n",
    "\t\t\t\t\t\t\n",
    "\t\t\t\t\t\t\n",
    "\t\t\t\t\t\t\n",
    "7. The provided data sets should be taken as examples to test your script. Your script should produce valid HOIDs from any reasonable data set that includes the five provided elements (association code, street number, street name, unit, and lot). \t\t\t\t\t\t\n",
    "\t\t\t\t\t\t\n",
    "\t\t\t\t\t\t\n",
    "\t\t\t\t\t\t"
   ]
  },
  {
   "cell_type": "code",
   "execution_count": 3,
   "metadata": {},
   "outputs": [
    {
     "name": "stdout",
     "output_type": "stream",
     "text": [
      "Association Code  Street Number Street Name  Unit Number Lot Number CINC HOID\n",
      "              AB            123    Main St.            1             AB123MS1\n",
      "              AB            123    Main St.            2             AB123MS2\n",
      "              AB            123    Main St.            3             AB123MS3\n",
      "              AB            123    Main St.            4             AB123MS4\n",
      "              AB            123    Main St.            5             AB123MS5\n",
      "              AB            123    Main St.            6             AB123MS6\n",
      "              AB            123    Main St.            7             AB123MS7\n",
      "              AB            123    Main St.            8             AB123MS8\n",
      "              AB            123    Main St.            9             AB123MS9\n",
      "              AB            123    Main St.           10            AB123MS10\n",
      "              AB            123    Main St.           11            AB123MS11\n",
      "              AB            123    Main St.           12            AB123MS12\n",
      "              AB            123    Main St.           13            AB123MS13\n",
      "              AB            123    Main St.           14            AB123MS14\n",
      "              AB            123    Main St.           15            AB123MS15\n",
      "              AB            123    Main St.           16            AB123MS16\n",
      "              AB            123    Main St.           17            AB123MS17\n",
      "              AB            123    Main St.           18            AB123MS18\n",
      "              AB            123    Main St.           19            AB123MS19\n",
      "              AB            123    Main St.           20            AB123MS20\n",
      "              AB            123    Main St.           21            AB123MS21\n",
      "              AB            123    Main St.           22            AB123MS22\n",
      "              AB            123    Main St.           23            AB123MS23\n",
      "              AB            123    Main St.           24            AB123MS24\n",
      "              AB            123    Main St.           25            AB123MS25\n",
      "              AB            123    Main St.           26            AB123MS26\n",
      "              AB            123    Main St.           27            AB123MS27\n",
      "              AB            123    Main St.           28            AB123MS28\n",
      "              AB            123    Main St.           29            AB123MS29\n",
      "              AB            123    Main St.           30            AB123MS30\n",
      "              AB            123    Main St.           31            AB123MS31\n",
      "              AB            123    Main St.           32            AB123MS32\n",
      "              AB            123    Main St.           33            AB123MS33\n",
      "              AB            123    Main St.           34            AB123MS34\n",
      "              AB            123    Main St.           35            AB123MS35\n",
      "              AB            123    Main St.           36            AB123MS36\n"
     ]
    }
   ],
   "source": [
    "\n",
    "import pandas as pd\n",
    "\n",
    "# Specify the path to your CSV file\n",
    "csv_file_path = 'cinc_dataset2.csv'\n",
    "\n",
    "# Read the CSV file into a DataFrame\n",
    "data= pd.read_csv(csv_file_path)\n",
    "\n",
    "# Create a DataFrame\n",
    "df = pd.DataFrame(data)\n",
    "\n",
    "# drop Old CINC Column \n",
    "df = df.drop('CINC HOID', axis=1)\n",
    "\n",
    "# Replace NaN values with empty space\n",
    "df.fillna('', inplace=True)\n",
    "\n",
    "# New CINC HOID using association code, street number, street name, unit, and lot)\n",
    "df['CINC HOID'] = df['Association Code'].astype(str) +\\\n",
    "+df['Street Number'].astype(str) +\\\n",
    "+df['Street Name'].apply(lambda x: ''.join([word[0] for word in x.split()])).astype(str) +\\\n",
    "+df['Unit Number'].astype(str) +\\\n",
    "+df['Lot Number'].str.replace('[^a-zA-Z0-9 ]', '', regex=True).astype(str)\n",
    "\n",
    "\n",
    "# Set the display option to show all rows and columns\n",
    "pd.set_option('display.max_rows', None)\n",
    "pd.set_option('display.max_columns', None)\n",
    "\n",
    "\n",
    "# Display the DataFrame \n",
    "print(df.to_string(index=False))\n"
   ]
  },
  {
   "cell_type": "markdown",
   "metadata": {},
   "source": [
    "# Generate and add an 'ID' column\n",
    "#df['UniqueID'] = range(1, len(df) + 1)"
   ]
  },
  {
   "cell_type": "markdown",
   "metadata": {},
   "source": [
    "#### You can Auto generate unique ID using this code. And concatenate to CINC HOID to make the ID Even Better"
   ]
  },
  {
   "cell_type": "code",
   "execution_count": null,
   "metadata": {},
   "outputs": [],
   "source": [
    "# Generate and add an 'ID' column\n",
    "import uuid\n",
    "df['UniqueGeneratedID'] = range(1, len(df) + 1)"
   ]
  },
  {
   "cell_type": "markdown",
   "metadata": {},
   "source": [
    "### No duplicate HOIDs may exist in a data set.\n",
    "### Script to find if there are any duplicates in the column"
   ]
  },
  {
   "cell_type": "code",
   "execution_count": 4,
   "metadata": {},
   "outputs": [
    {
     "data": {
      "text/html": [
       "<div>\n",
       "<style scoped>\n",
       "    .dataframe tbody tr th:only-of-type {\n",
       "        vertical-align: middle;\n",
       "    }\n",
       "\n",
       "    .dataframe tbody tr th {\n",
       "        vertical-align: top;\n",
       "    }\n",
       "\n",
       "    .dataframe thead th {\n",
       "        text-align: right;\n",
       "    }\n",
       "</style>\n",
       "<table border=\"1\" class=\"dataframe\">\n",
       "  <thead>\n",
       "    <tr style=\"text-align: right;\">\n",
       "      <th></th>\n",
       "      <th>Association Code</th>\n",
       "      <th>Street Number</th>\n",
       "      <th>Street Name</th>\n",
       "      <th>Unit Number</th>\n",
       "      <th>Lot Number</th>\n",
       "      <th>CINC HOID</th>\n",
       "    </tr>\n",
       "  </thead>\n",
       "  <tbody>\n",
       "  </tbody>\n",
       "</table>\n",
       "</div>"
      ],
      "text/plain": [
       "Empty DataFrame\n",
       "Columns: [Association Code, Street Number, Street Name, Unit Number, Lot Number, CINC HOID]\n",
       "Index: []"
      ]
     },
     "execution_count": 4,
     "metadata": {},
     "output_type": "execute_result"
    }
   ],
   "source": [
    "\n",
    "duplicate_rows= df[df.duplicated(subset=['CINC HOID'])]\n",
    "duplicate_rows"
   ]
  }
 ],
 "metadata": {
  "kernelspec": {
   "display_name": "Python 3",
   "language": "python",
   "name": "python3"
  },
  "language_info": {
   "codemirror_mode": {
    "name": "ipython",
    "version": 3
   },
   "file_extension": ".py",
   "mimetype": "text/x-python",
   "name": "python",
   "nbconvert_exporter": "python",
   "pygments_lexer": "ipython3",
   "version": "3.10.11"
  }
 },
 "nbformat": 4,
 "nbformat_minor": 2
}
